{
  "cells": [
    {
      "cell_type": "markdown",
      "metadata": {
        "id": "view-in-github",
        "colab_type": "text"
      },
      "source": [
        "<a href=\"https://colab.research.google.com/github/quochungtran/build-road-signal-classifiations/blob/master/build_road_signal_classifiations.ipynb\" target=\"_parent\"><img src=\"https://colab.research.google.com/assets/colab-badge.svg\" alt=\"Open In Colab\"/></a>"
      ]
    },
    {
      "cell_type": "markdown",
      "metadata": {
        "id": "y8e-gaAIqeid"
      },
      "source": [
        "\n",
        "# **SET UP**\n",
        "\n",
        "\n",
        "\n",
        "\n",
        "\n",
        "\n",
        "\n",
        "\n"
      ]
    },
    {
      "cell_type": "code",
      "execution_count": null,
      "metadata": {
        "colab": {
          "base_uri": "https://localhost:8080/",
          "height": 35
        },
        "id": "7pg_JJDZqBPV",
        "outputId": "ed16af1a-9ffe-4ebc-d1e7-38d3724af79f"
      },
      "outputs": [
        {
          "output_type": "execute_result",
          "data": {
            "text/plain": [
              "'2.11.0'"
            ],
            "application/vnd.google.colaboratory.intrinsic+json": {
              "type": "string"
            }
          },
          "metadata": {},
          "execution_count": 3
        }
      ],
      "source": [
        "import tensorflow as tf\n",
        "tf .__version__"
      ]
    },
    {
      "cell_type": "code",
      "execution_count": null,
      "metadata": {
        "colab": {
          "base_uri": "https://localhost:8080/"
        },
        "id": "KNUWOeMXkGwg",
        "outputId": "dfa5994d-6a8e-4898-92b4-b0ff9d692974"
      },
      "outputs": [
        {
          "output_type": "stream",
          "name": "stdout",
          "text": [
            "Mounted at /content/drive\n"
          ]
        }
      ],
      "source": [
        "# connect gitlab to drive to be a place to store data\n",
        "from google.colab import drive\n",
        "drive.mount(\"/content/drive\")"
      ]
    },
    {
      "cell_type": "code",
      "execution_count": null,
      "metadata": {
        "colab": {
          "base_uri": "https://localhost:8080/",
          "height": 35
        },
        "id": "Vf6SzBmMqPga",
        "outputId": "0456aac1-60e1-453b-efa0-6229d5e892a9"
      },
      "outputs": [
        {
          "output_type": "execute_result",
          "data": {
            "text/plain": [
              "'/content'"
            ],
            "application/vnd.google.colaboratory.intrinsic+json": {
              "type": "string"
            }
          },
          "metadata": {},
          "execution_count": 5
        }
      ],
      "source": [
        "pwd"
      ]
    },
    {
      "cell_type": "code",
      "execution_count": null,
      "metadata": {
        "colab": {
          "base_uri": "https://localhost:8080/"
        },
        "id": "rhU6QWoKqQbk",
        "outputId": "ffc72d0b-cc30-471a-fd71-18f17d3743f0"
      },
      "outputs": [
        {
          "output_type": "stream",
          "name": "stdout",
          "text": [
            "/content/drive/My Drive/deep_learning_exercise\n"
          ]
        }
      ],
      "source": [
        "cd /content/drive/My Drive/deep_learning_exercise"
      ]
    },
    {
      "cell_type": "markdown",
      "metadata": {
        "id": "vwvXcW4IsYhR"
      },
      "source": [
        "#**Downlad data set**"
      ]
    },
    {
      "cell_type": "code",
      "execution_count": null,
      "metadata": {
        "colab": {
          "base_uri": "https://localhost:8080/"
        },
        "id": "NwU6LSS5sPTL",
        "outputId": "b0494294-8073-466e-c2b1-f46fb2f88071"
      },
      "outputs": [
        {
          "output_type": "stream",
          "name": "stdout",
          "text": [
            "Looking in indexes: https://pypi.org/simple, https://us-python.pkg.dev/colab-wheels/public/simple/\n",
            "Collecting wget\n",
            "  Downloading wget-3.2.zip (10 kB)\n",
            "  Preparing metadata (setup.py) ... \u001b[?25l\u001b[?25hdone\n",
            "Building wheels for collected packages: wget\n",
            "  Building wheel for wget (setup.py) ... \u001b[?25l\u001b[?25hdone\n",
            "  Created wheel for wget: filename=wget-3.2-py3-none-any.whl size=9674 sha256=51bd5690a478e8afd659ffffd2a3e3da27dc56ee8d5f3d1790862dd89b2636a1\n",
            "  Stored in directory: /root/.cache/pip/wheels/04/5f/3e/46cc37c5d698415694d83f607f833f83f0149e49b3af9d0f38\n",
            "Successfully built wget\n",
            "Installing collected packages: wget\n",
            "Successfully installed wget-3.2\n"
          ]
        }
      ],
      "source": [
        "# wget is a command-line tool commonly used in Linux \n",
        "# and other Unix-based operating systems to download files from the internet.\n",
        "!pip3 install wget"
      ]
    },
    {
      "cell_type": "code",
      "source": [
        "# import setting up packages\n",
        "import wget\n",
        "import pickle\n",
        "import matplotlib.pyplot as plt"
      ],
      "metadata": {
        "id": "Uk6oZ-aXAjFp"
      },
      "execution_count": null,
      "outputs": []
    },
    {
      "cell_type": "code",
      "execution_count": null,
      "metadata": {
        "id": "F9lbjl2ZsWp4"
      },
      "outputs": [],
      "source": [
        "# Define the principal paths \n",
        "\n",
        "DATA_LINK      = \"https://d17h27t6h515a5.cloudfront.net/topher/2017/February/5898cd6f_traffic-signs-data/traffic-signs-data.zip\"\n",
        "CURRENT_FOLDER = \"./\" # Unzip in the current directory\n",
        "\n",
        "# training, validaition, testing dataset path\n",
        "TRAINING_DATA_PATH   = CURRENT_FOLDER + \"train.p\"\n",
        "VALIDATION_DATA_PATH = CURRENT_FOLDER + \"valid.p\"\n",
        "TESTING_DATA_PATH    = CURRENT_FOLDER + \"test.p\""
      ]
    },
    {
      "cell_type": "code",
      "execution_count": null,
      "metadata": {
        "colab": {
          "base_uri": "https://localhost:8080/",
          "height": 35
        },
        "id": "iOCmLIFYs11V",
        "outputId": "8501e1aa-b2e2-4aef-dbb2-3c3928d756d9"
      },
      "outputs": [
        {
          "output_type": "execute_result",
          "data": {
            "text/plain": [
              "'traffic-signs-data (5).zip'"
            ],
            "application/vnd.google.colaboratory.intrinsic+json": {
              "type": "string"
            }
          },
          "metadata": {},
          "execution_count": 11
        }
      ],
      "source": [
        "wget.download(DATA_LINK)"
      ]
    },
    {
      "cell_type": "code",
      "execution_count": null,
      "metadata": {
        "colab": {
          "base_uri": "https://localhost:8080/"
        },
        "id": "MMMLFZ39teI4",
        "outputId": "22674c04-6513-4c45-85a1-5bad497e9fa4"
      },
      "outputs": [
        {
          "output_type": "stream",
          "name": "stdout",
          "text": [
            "error:  must specify directory to which to extract with -d option\n"
          ]
        }
      ],
      "source": [
        "!unzip -q traffic-signs-data.zip -d $data"
      ]
    },
    {
      "cell_type": "code",
      "source": [
        "def deserialize_data(data_path):\n",
        "  with open(data_path,mode='rb') as f:\n",
        "    data_set = pickle.load(f)\n",
        "  return data_set "
      ],
      "metadata": {
        "id": "EpsD_sxLBwaN"
      },
      "execution_count": null,
      "outputs": []
    },
    {
      "cell_type": "markdown",
      "source": [
        "## Training, validation and testing sets"
      ],
      "metadata": {
        "id": "STCQsvH4FDjb"
      }
    },
    {
      "cell_type": "code",
      "execution_count": null,
      "metadata": {
        "id": "JCQ5Uhz5vYUn"
      },
      "outputs": [],
      "source": [
        "train_set = deserialize_data(TRAINING_DATA_PATH)\n",
        "valid_set = deserialize_data(VALIDATION_DATA_PATH)\n",
        "test_set  = deserialize_data(TESTING_DATA_PATH)"
      ]
    },
    {
      "cell_type": "code",
      "source": [
        "items = train_set.items()\n",
        "for key, values in items:\n",
        "  print(f\"key: {key}, type of values {type(values)}\")"
      ],
      "metadata": {
        "colab": {
          "base_uri": "https://localhost:8080/"
        },
        "id": "-9jOjqYCDrGG",
        "outputId": "cfeb90a6-21ed-4a25-f571-580cd018f312"
      },
      "execution_count": null,
      "outputs": [
        {
          "output_type": "stream",
          "name": "stdout",
          "text": [
            "key: coords, type of values <class 'numpy.ndarray'>\n",
            "key: labels, type of values <class 'numpy.ndarray'>\n",
            "key: features, type of values <class 'numpy.ndarray'>\n",
            "key: sizes, type of values <class 'numpy.ndarray'>\n"
          ]
        }
      ]
    },
    {
      "cell_type": "code",
      "source": [
        "trainy      = train_set[\"labels\"]\n"
      ],
      "metadata": {
        "id": "kYD489enKaSh"
      },
      "execution_count": null,
      "outputs": []
    },
    {
      "cell_type": "code",
      "execution_count": null,
      "metadata": {
        "id": "y58EtasmvtKz"
      },
      "outputs": [],
      "source": [
        "trainX      = train_set[\"features\"]\n",
        "trainy      = train_set[\"labels\"]\n",
        "validationX = valid_set[\"features\"]\n",
        "validationy = valid_set[\"labels\"]\n",
        "testingX    = test_set[\"features\"]\n",
        "testingy    = test_set[\"labels\"]"
      ]
    },
    {
      "cell_type": "code",
      "source": [
        "trainX.shape"
      ],
      "metadata": {
        "colab": {
          "base_uri": "https://localhost:8080/"
        },
        "id": "jwXgbHH20Bqz",
        "outputId": "10dcff50-9c80-458c-e5e2-a211a82a9bbd"
      },
      "execution_count": null,
      "outputs": [
        {
          "output_type": "execute_result",
          "data": {
            "text/plain": [
              "(34799, 32, 32, 3)"
            ]
          },
          "metadata": {},
          "execution_count": 18
        }
      ]
    },
    {
      "cell_type": "code",
      "execution_count": null,
      "metadata": {
        "colab": {
          "base_uri": "https://localhost:8080/"
        },
        "id": "pB_EK7IsxiGj",
        "outputId": "898b6280-c725-4380-abb8-11a3c7513f26"
      },
      "outputs": [
        {
          "output_type": "stream",
          "name": "stdout",
          "text": [
            "training   data set size 34799\n",
            "validation data set size 4410\n",
            "testing    data set size 12630\n"
          ]
        }
      ],
      "source": [
        "print(f\"training   data set size {trainX.shape[0]}\")\n",
        "print(f\"validation data set size {validationX.shape[0]}\")\n",
        "print(f\"testing    data set size {testingX.shape[0]}\")"
      ]
    },
    {
      "cell_type": "markdown",
      "source": [
        "- There are 34799 images with dimensions 32x32x3 with that is a 2-dimensional image with a width of 32 pixels and a height 32 pixels, and it has 3 color channels: red, green, and blue (RGB).\n",
        "\n",
        "- In term of RGB images, each pixel is represented as a combination of three color channels, with values ranging from 0 to 255.\n",
        "\n",
        "- An RGB image with dimensions 32 x 32 x 3 has a total of 3,072 pixels (32 x 32 x 3), with each pixel being represented by three values for its red, green, and blue color channels.\n"
      ],
      "metadata": {
        "id": "AFcnjbJX1noa"
      }
    },
    {
      "cell_type": "markdown",
      "source": [
        "## Visualization data "
      ],
      "metadata": {
        "id": "KBy7sCB6GVk0"
      }
    },
    {
      "cell_type": "code",
      "source": [
        "classNames = {0: 'Speed limit (20km/h)',\n",
        " 1: 'Speed limit (30km/h)',\n",
        " 2: 'Speed limit (50km/h)',\n",
        " 3: 'Speed limit (60km/h)',\n",
        " 4: 'Speed limit (70km/h)',\n",
        " 5: 'Speed limit (80km/h)',\n",
        " 6: 'End of speed limit (80km/h)',\n",
        " 7: 'Speed limit (100km/h)',\n",
        " 8: 'Speed limit (120km/h)',\n",
        " 9: 'No passing',\n",
        " 10: 'No passing for vehicles over 3.5 metric tons',\n",
        " 11: 'Right-of-way at the next intersection',\n",
        " 12: 'Priority road',\n",
        " 13: 'Yield',\n",
        " 14: 'Stop',\n",
        " 15: 'No vehicles',\n",
        " 16: 'Vehicles over 3.5 metric tons prohibited',\n",
        " 17: 'No entry',\n",
        " 18: 'General caution',\n",
        " 19: 'Dangerous curve to the left',\n",
        " 20: 'Dangerous curve to the right',\n",
        " 21: 'Double curve',\n",
        " 22: 'Bumpy road',\n",
        " 23: 'Slippery road',\n",
        " 24: 'Road narrows on the right',\n",
        " 25: 'Road work',\n",
        " 26: 'Traffic signals',\n",
        " 27: 'Pedestrians',\n",
        " 28: 'Children crossing',\n",
        " 29: 'Bicycles crossing',\n",
        " 30: 'Beware of ice/snow',\n",
        " 31: 'Wild animals crossing',\n",
        " 32: 'End of all speed and passing limits',\n",
        " 33: 'Turn right ahead',\n",
        " 34: 'Turn left ahead',\n",
        " 35: 'Ahead only',\n",
        " 36: 'Go straight or right',\n",
        " 37: 'Go straight or left',\n",
        " 38: 'Keep right',\n",
        " 39: 'Keep left',\n",
        " 40: 'Roundabout mandatory',\n",
        " 41: 'End of no passing',\n",
        " 42: 'End of no passing by vehicles over 3.5 metric tons'}"
      ],
      "metadata": {
        "id": "WJiZfNIe5eK_"
      },
      "execution_count": null,
      "outputs": []
    },
    {
      "cell_type": "code",
      "source": [
        "fig = plt.figure(figsize = (20, 10))\n",
        "dim = 3\n",
        "start_point = 1\n",
        "fig_num = 1\n",
        "\n",
        "for i in range(start_point, dim*dim + start_point):\n",
        "    ax = fig.add_subplot(dim, dim, fig_num)\n",
        "    fig_num += 1\n",
        "    ax.imshow(trainX[i])\n",
        "    ax.set_title(classNames[trainy[i]])"
      ],
      "metadata": {
        "colab": {
          "base_uri": "https://localhost:8080/",
          "height": 607
        },
        "id": "KaLTH-Hz2eM7",
        "outputId": "bb9157a7-8ff3-494c-cdf2-d6cac0d73b21"
      },
      "execution_count": null,
      "outputs": [
        {
          "output_type": "display_data",
          "data": {
            "text/plain": [
              "<Figure size 1440x720 with 9 Axes>"
            ],
            "image/png": "[encoded data removed]"
          },
          "metadata": {
            "needs_background": "light"
          }
        }
      ]
    },
    {
      "cell_type": "markdown",
      "metadata": {
        "id": "m5GJN1puzQPO"
      },
      "source": [
        "Consider that the first 9 images in dataset is same, this lead to lack of the generation of training model so we need to shuffle the data. "
      ]
    },
    {
      "cell_type": "code",
      "execution_count": null,
      "metadata": {
        "id": "xpUa6s5szfBS"
      },
      "outputs": [],
      "source": [
        "from  sklearn.utils import shuffle  \n",
        "trainX, trainy = shuffle(trainX,trainy)"
      ]
    },
    {
      "cell_type": "code",
      "execution_count": null,
      "metadata": {
        "colab": {
          "base_uri": "https://localhost:8080/",
          "height": 607
        },
        "id": "IIDqt7-izt-3",
        "outputId": "0c057b95-7403-464f-8a4c-107046ae7614"
      },
      "outputs": [
        {
          "output_type": "display_data",
          "data": {
            "text/plain": [
              "<Figure size 1440x720 with 9 Axes>"
            ],
            "image/png": "[encoded data removed]"
          },
          "metadata": {
            "needs_background": "light"
          }
        }
      ],
      "source": [
        "fig = plt.figure(figsize = (20, 10))\n",
        "dim = 3\n",
        "start_point = 1\n",
        "fig_num = 1\n",
        "\n",
        "for i in range(start_point, dim*dim + start_point):\n",
        "    ax = fig.add_subplot(dim, dim, fig_num)\n",
        "    fig_num += 1\n",
        "    ax.imshow(trainX[i])\n",
        "    ax.set_title(classNames[trainy[i]])"
      ]
    },
    {
      "cell_type": "markdown",
      "source": [
        "## Take a look at class balances in our dataset"
      ],
      "metadata": {
        "id": "8y_lQbz6yFIU"
      }
    },
    {
      "cell_type": "code",
      "source": [
        "def plot_class_histogram(classes):\n",
        "    num_classes = len(set(classes))  # get the number of unique classes\n",
        "    plt.hist(classes, bins=num_classes)\n",
        "    plt.xlabel('Class')\n",
        "    plt.ylabel('Frequency')\n",
        "    plt.title('Histogram of Class Frequencies')\n",
        "    plt.show()"
      ],
      "metadata": {
        "id": "AFfJLpFYyZbj"
      },
      "execution_count": null,
      "outputs": []
    },
    {
      "cell_type": "code",
      "source": [
        "fig = plt.figure(figsize = (12, 12))\n",
        "ax = fig.add_subplot(3, 1, 1)\n",
        "plot_class_histogram(train_set[\"labels\"])\n",
        "\n",
        "ax = fig.add_subplot(3, 1, 2)\n",
        "plot_class_histogram(valid_set[\"labels\"])\n",
        "\n",
        "ax = fig.add_subplot(3, 1, 3)\n",
        "plot_class_histogram(test_set[\"labels\"])"
      ],
      "metadata": {
        "colab": {
          "base_uri": "https://localhost:8080/",
          "height": 826
        },
        "id": "YA7mhhi3yamZ",
        "outputId": "0f859c41-81cd-46af-a057-a4832dbb5edf"
      },
      "execution_count": null,
      "outputs": [
        {
          "output_type": "display_data",
          "data": {
            "text/plain": [
              "<Figure size 864x864 with 1 Axes>"
            ],
            "image/png": "[encoded data removed]"
          },
          "metadata": {
            "needs_background": "light"
          }
        },
        {
          "output_type": "display_data",
          "data": {
            "text/plain": [
              "<Figure size 432x288 with 1 Axes>"
            ],
            "image/png": "[encoded data removed]"
          },
          "metadata": {
            "needs_background": "light"
          }
        },
        {
          "output_type": "display_data",
          "data": {
            "text/plain": [
              "<Figure size 432x288 with 1 Axes>"
            ],
            "image/png": "[encoded data removed]"
          },
          "metadata": {
            "needs_background": "light"
          }
        }
      ]
    },
    {
      "cell_type": "markdown",
      "source": [
        "## Preprocessing image"
      ],
      "metadata": {
        "id": "7MUU4gNZFVZw"
      }
    },
    {
      "cell_type": "markdown",
      "metadata": {
        "id": "4aymjYlE1L_t"
      },
      "source": [
        "### Normalization data\n",
        "\n",
        "\n",
        "Typically, there are many advantages while using normalization:\n",
        "\n",
        "Normalizing images is an important step in preprocessing data for deep learning problems. The main reasons for normalizing images are:\n",
        "\n",
        "- To make the data more manageable for the neural network: Neural networks work best when the input data is standardized, as it helps the network to learn the features of the data more effectively. Normalizing images can help to ensure that the data is in a consistent range, which can help to improve the performance of the network.\n",
        "\n",
        "\n",
        "- To reduce the impact of illumination differences: Images can have a wide range of brightness and contrast, which can make it difficult for the network to distinguish between different features in the image. Normalizing images can help to reduce the impact of illumination differences and ensure that the network focuses on the important features of the image.\n",
        "\n",
        "\n",
        "- To reduce overfitting: Normalizing images can help to reduce overfitting, which occurs when the model learns to recognize specific examples rather than generalizing to new data. Normalizing images can help to prevent the model from becoming too sensitive to the specific pixel values of the input images.\n",
        "\n",
        "Overall, normalizing images is an important preprocessing step that can help to improve the performance of deep learning models."
      ]
    },
    {
      "cell_type": "code",
      "source": [
        "def standard_norm(image):\n",
        "  return image.astype(\"float\") / 255.0\n",
        "\n",
        "def min_max_norm(image):\n",
        "    image = (image - np.min(image)) / (np.max(image) - np.min(image))\n",
        "    return image\n",
        "\n",
        "def z_score_norm(image):\n",
        "    image = (image - np.mean(image)) / np.std(image)\n",
        "    return image\n",
        "\n",
        "def unit_vector_norm(image):\n",
        "    norm = np.sqrt(np.sum(image ** 2))\n",
        "    image = image / norm\n",
        "    return image\n"
      ],
      "metadata": {
        "id": "ITc38PYG9EMx"
      },
      "execution_count": null,
      "outputs": []
    },
    {
      "cell_type": "code",
      "source": [
        "# we chose standard_norm\n",
        "trainX      = trainX.astype(\"float\")/255.0\n",
        "validationX = validationX.astype(\"float\")/255.0\n",
        "testingX    = testingX.astype(\"float\")/255.0"
      ],
      "metadata": {
        "id": "vBXsX3c6EZjz"
      },
      "execution_count": null,
      "outputs": []
    },
    {
      "cell_type": "markdown",
      "source": [
        "### One hot coding labels in Tensorflow  "
      ],
      "metadata": {
        "id": "8c-mJl-YINrv"
      }
    },
    {
      "cell_type": "code",
      "execution_count": null,
      "metadata": {
        "id": "_E1-AcCs3i4V"
      },
      "outputs": [],
      "source": [
        "\n",
        "from sklearn.preprocessing import LabelBinarizer # this API made each label to one hot vector\n",
        "# note : we can use tf.one hot instead"
      ]
    },
    {
      "cell_type": "code",
      "execution_count": null,
      "metadata": {
        "id": "0gMaGQVE4EM7"
      },
      "outputs": [],
      "source": [
        "lb = LabelBinarizer()\n",
        "trainy      = lb.fit_transform(trainy)\n",
        "validationy = lb.fit_transform(validationy)"
      ]
    },
    {
      "cell_type": "code",
      "execution_count": null,
      "metadata": {
        "colab": {
          "base_uri": "https://localhost:8080/"
        },
        "id": "BYa80AWE4j7u",
        "outputId": "bc812bdc-c047-4e04-bd00-c527c945e085"
      },
      "outputs": [
        {
          "output_type": "execute_result",
          "data": {
            "text/plain": [
              "array([0, 0, 0, 0, 0, 0, 0, 0, 0, 0, 0, 0, 0, 0, 0, 0, 0, 0, 0, 0, 0, 0,\n",
              "       0, 0, 0, 0, 0, 0, 1, 0, 0, 0, 0, 0, 0, 0, 0, 0, 0, 0, 0, 0, 0])"
            ]
          },
          "metadata": {},
          "execution_count": 30
        }
      ],
      "source": [
        "trainy[0]"
      ]
    },
    {
      "cell_type": "markdown",
      "metadata": {
        "id": "Ar-Fui1yqsd5"
      },
      "source": [
        "#**Building the model**\n",
        "\n",
        "## What is VGG16 used for\n",
        "VGG16 is object detection and classification algorithm which is able to classify 1000 images of 1000 different categories with 92.7% accuracy. It is one of the popular algorithms for image classification and is easy to use with transfer learning.\n",
        "\n"
      ]
    },
    {
      "cell_type": "code",
      "execution_count": null,
      "metadata": {
        "id": "pdELoCkXqqGv"
      },
      "outputs": [],
      "source": [
        "from tensorflow.keras.models import Model\n",
        "from tensorflow.keras.models import Sequential\n",
        "from tensorflow.keras.layers import BatchNormalization\n",
        "from tensorflow.keras.layers import AveragePooling2D\n",
        "from tensorflow.keras.layers import MaxPooling2D\n",
        "from tensorflow.keras.layers import Conv2D\n",
        "from tensorflow.keras.layers import Activation\n",
        "from tensorflow.keras.layers import Dropout\n",
        "from tensorflow.keras.layers import Flatten\n",
        "from tensorflow.keras.layers import Input\n",
        "from tensorflow.keras.layers import Dense\n",
        "from tensorflow.keras.layers import concatenate\n",
        "from tensorflow.keras.preprocessing.image import ImageDataGenerator\n",
        "from tensorflow.keras.optimizers import SGD"
      ]
    },
    {
      "cell_type": "code",
      "execution_count": null,
      "metadata": {
        "id": "Gz9CaesFrC5g"
      },
      "outputs": [],
      "source": [
        "# initialization model bằng API Sequential\n",
        "model = Sequential()\n",
        "\n",
        "# initialization params \n",
        "width = 32\n",
        "height = 32\n",
        "Classes = 43\n",
        "\n",
        "shape = (width, height, 3 ) # shape of input image"
      ]
    },
    {
      "cell_type": "code",
      "execution_count": null,
      "metadata": {
        "id": "IbSZHK2Ispf5"
      },
      "outputs": [],
      "source": [
        "def create_model():\n",
        "  # initialization model bằng API Sequential\n",
        "    model = Sequential()\n",
        "    # ---\n",
        "    # adds a 2D convolutional layer with 32 filters of size 3x3. \n",
        "    # \"same\" padding mode: ensure that the output has the same spatial dimensions as the input. \n",
        "    # shape of the input data: 3D tensor with dimensions (height, width, channels).\n",
        "    model.add(Conv2D(32 , (3,3), padding=\"same\", input_shape=shape))\n",
        "    # applies the rectified linear unit activation function to the output of the previous layer. \n",
        "    model.add(Activation(\"relu\")) \n",
        "    # normalizes the activations of the previous layer across the mini-batch. \n",
        "    # reduce internal covariate shift and improves the stability and convergence of the model.\n",
        "    model.add(BatchNormalization())\n",
        "    # ---\n",
        "    # adds another 2D convolutional layer with 32 filters of size 3x3, using \"same\" padding.\n",
        "    model.add(Conv2D(32 , (3,3),padding=\"same\"))\n",
        "    # adds another batch normalization layer.\n",
        "    model.add(BatchNormalization())\n",
        "    # ---\n",
        "    model.add(Conv2D(32 , (3,3),padding=\"same\"))\n",
        "    model.add(Activation(\"relu\"))\n",
        "    model.add(BatchNormalization())   \n",
        "    # ---\n",
        "    model.add(MaxPooling2D(pool_size=(2,2)))\n",
        "    # ---\n",
        "    model.add(Conv2D(64, (3, 3), padding=\"same\"))\n",
        "    model.add(Activation(\"relu\"))\n",
        "    model.add(BatchNormalization())\n",
        "    # ---\n",
        "    model.add(Conv2D(64, (3, 3), padding=\"same\"))\n",
        "    model.add(Activation(\"relu\"))\n",
        "    model.add(BatchNormalization())\n",
        "    # ---\n",
        "    # adds a max pooling layer with a pooling window of size 2x2\n",
        "    # downsamples the spatial dimensions of the previous layer by taking the maximum value within each window\n",
        "    model.add(MaxPooling2D(pool_size=(2,2)))\n",
        "    # ---\n",
        "    # flattens the output of the previous layer into a 1D vector.\n",
        "    model.add(Flatten()) \n",
        "    # adds a fully connected layer with 512 neurons.\n",
        "    model.add(Dense(512))\n",
        "    model.add(Activation(\"relu\"))\n",
        "    model.add(BatchNormalization())\n",
        "    model.add(Dense(Classes))\n",
        "    # adds another fully connected layer with Classes neurons \n",
        "    model.add(Activation(\"softmax\")) # duỗi thành 43 hợp vs y \n",
        "    # ---\n",
        "    return model"
      ]
    },
    {
      "cell_type": "code",
      "execution_count": null,
      "metadata": {
        "colab": {
          "base_uri": "https://localhost:8080/"
        },
        "id": "2v4pGv6Vwvks",
        "outputId": "8442c1f5-5a8c-4f7b-d978-aa9f5209f11e"
      },
      "outputs": [
        {
          "output_type": "stream",
          "name": "stdout",
          "text": [
            "Model: \"sequential_1\"\n",
            "_________________________________________________________________\n",
            " Layer (type)                Output Shape              Param #   \n",
            "=================================================================\n",
            " conv2d (Conv2D)             (None, 32, 32, 32)        896       \n",
            "                                                                 \n",
            " activation (Activation)     (None, 32, 32, 32)        0         \n",
            "                                                                 \n",
            " batch_normalization (BatchN  (None, 32, 32, 32)       128       \n",
            " ormalization)                                                   \n",
            "                                                                 \n",
            " conv2d_1 (Conv2D)           (None, 32, 32, 32)        9248      \n",
            "                                                                 \n",
            " batch_normalization_1 (Batc  (None, 32, 32, 32)       128       \n",
            " hNormalization)                                                 \n",
            "                                                                 \n",
            " conv2d_2 (Conv2D)           (None, 32, 32, 32)        9248      \n",
            "                                                                 \n",
            " activation_1 (Activation)   (None, 32, 32, 32)        0         \n",
            "                                                                 \n",
            " batch_normalization_2 (Batc  (None, 32, 32, 32)       128       \n",
            " hNormalization)                                                 \n",
            "                                                                 \n",
            " max_pooling2d (MaxPooling2D  (None, 16, 16, 32)       0         \n",
            " )                                                               \n",
            "                                                                 \n",
            " conv2d_3 (Conv2D)           (None, 16, 16, 64)        18496     \n",
            "                                                                 \n",
            " activation_2 (Activation)   (None, 16, 16, 64)        0         \n",
            "                                                                 \n",
            " batch_normalization_3 (Batc  (None, 16, 16, 64)       256       \n",
            " hNormalization)                                                 \n",
            "                                                                 \n",
            " conv2d_4 (Conv2D)           (None, 16, 16, 64)        36928     \n",
            "                                                                 \n",
            " activation_3 (Activation)   (None, 16, 16, 64)        0         \n",
            "                                                                 \n",
            " batch_normalization_4 (Batc  (None, 16, 16, 64)       256       \n",
            " hNormalization)                                                 \n",
            "                                                                 \n",
            " max_pooling2d_1 (MaxPooling  (None, 8, 8, 64)         0         \n",
            " 2D)                                                             \n",
            "                                                                 \n",
            " flatten (Flatten)           (None, 4096)              0         \n",
            "                                                                 \n",
            " dense (Dense)               (None, 512)               2097664   \n",
            "                                                                 \n",
            " activation_4 (Activation)   (None, 512)               0         \n",
            "                                                                 \n",
            " batch_normalization_5 (Batc  (None, 512)              2048      \n",
            " hNormalization)                                                 \n",
            "                                                                 \n",
            " dense_1 (Dense)             (None, 43)                22059     \n",
            "                                                                 \n",
            " activation_5 (Activation)   (None, 43)                0         \n",
            "                                                                 \n",
            "=================================================================\n",
            "Total params: 2,197,483\n",
            "Trainable params: 2,196,011\n",
            "Non-trainable params: 1,472\n",
            "_________________________________________________________________\n"
          ]
        }
      ],
      "source": [
        "model = create_model().summary()"
      ]
    },
    {
      "cell_type": "markdown",
      "source": [
        "## Train model\n",
        "\n",
        "- Utilize optimizng method: SGD(learning_rate=learning_rate, momentum=momentum), a **stochastic gradient descent (SGD)** optimizer with a specified learning rate and momentum. The learning_rate argument sets the step size of the optimizer, which determines how large of a step it takes in the direction of the gradient during each update. The momentum argument sets the momentum coefficient, which helps the optimizer continue moving in the same direction as previous updates, even when the gradient changes direction.\n",
        "\n",
        "- Categorical cross-entropy is a commonly used **loss function** for multi-class classification problems. \n",
        "\n",
        "- The **metrics** argument sets the evaluation metrics to be used during training, which is accuracy in this case. Accuracy measures the fraction of correctly classified samples in the dataset."
      ],
      "metadata": {
        "id": "K8tOA2kk1lOj"
      }
    },
    {
      "cell_type": "code",
      "source": [
        "### train model \n",
        "# baseline hyper-params\n",
        "\n",
        "# the number of epochs, or complete passes through the training dataset, to be used during training. \n",
        "# An epoch consists of one forward pass and one backward pass through the entire dataset.\n",
        "epochs        = 10 \n",
        "\n",
        "# the number of samples processed by the model during each training iteration. \n",
        "# A larger batch size can lead to faster training times, but may require more memory to store the gradients during backpropagation.\n",
        "batch_size    = 64\n",
        "\n",
        "# Determines how much the weights of the model are updated during each training iteration. \n",
        "# A higher learning rate can lead to faster convergence, but may cause the optimizer to overshoot the minimum and fail to converge. \n",
        "# A lower learning rate can lead to slower convergence, but may result in better convergence to the global minimum.\n",
        "learning_rate = 0.01"
      ],
      "metadata": {
        "id": "-kO-wJIv04z6"
      },
      "execution_count": null,
      "outputs": []
    },
    {
      "cell_type": "code",
      "source": [
        "# augmentation data\n",
        "aug = ImageDataGenerator(rotation_range=0.18, zoom_range=0.15, width_shift_range=0.2, height_shift_range=0.2, horizontal_flip=True)"
      ],
      "metadata": {
        "id": "7bGLImCILM3n"
      },
      "execution_count": null,
      "outputs": []
    },
    {
      "cell_type": "code",
      "source": [
        "def train_model(model, epochs, batch_size, learning_rate):\n",
        "  opt = SGD(learning_rate=learning_rate, momentum=0.9) # stochatic gradient descends\n",
        "  model.compile(optimizer=opt, loss=\"categorical_crossentropy\", metrics=[\"accuracy\"])\n",
        "  print(\"Start training\")\n",
        "  H = (model.fit_generator(aug.flow(trainX, trainy, batch_size=batch_size), \n",
        "                           validation_data=(validationX, validationy), \n",
        "                           steps_per_epoch=trainX.shape[0]//batch_size, \n",
        "                           epochs=epochs, \n",
        "                           verbose=1)\n",
        "      )\n",
        "  return H"
      ],
      "metadata": {
        "id": "kkO0aBus2gQn"
      },
      "execution_count": null,
      "outputs": []
    },
    {
      "cell_type": "code",
      "source": [
        "import matplotlib.pyplot as plt\n",
        "\n",
        "def evaluation_model(H):\n",
        "    #-----------------------------------------------------------\n",
        "    # Retrieve a list of list results on training and test data\n",
        "    # sets for each training epoch\n",
        "    #-----------------------------------------------------------\n",
        "    acc      = H.history[     'accuracy' ]\n",
        "    val_acc  = H.history[ 'val_accuracy' ]\n",
        "    loss     = H.history[    'loss' ]\n",
        "    val_loss = H.history['val_loss' ]\n",
        "\n",
        "    epochs   = range(len(acc)) # Get number of epochs\n",
        "\n",
        "    #------------------------------------------------\n",
        "    # Plot training and validation accuracy per epoch\n",
        "    #------------------------------------------------\n",
        "    plt.plot  ( epochs,     acc )\n",
        "    plt.plot  ( epochs, val_acc )\n",
        "    plt.title ('Training and validation accuracy')\n",
        "    plt.figure()\n",
        "\n",
        "    #------------------------------------------------\n",
        "    # Plot training and validation loss per epoch\n",
        "    #------------------------------------------------\n",
        "    plt.plot  ( epochs,     loss )\n",
        "    plt.plot  ( epochs, val_loss )\n",
        "    plt.title ('Training and validation loss'   )\n",
        "    plt.legend()"
      ],
      "metadata": {
        "id": "OTFLZdsDI6x9"
      },
      "execution_count": null,
      "outputs": []
    },
    {
      "cell_type": "markdown",
      "source": [
        "## Tunning hyper-params"
      ],
      "metadata": {
        "id": "AgXaR15OLyRj"
      }
    },
    {
      "cell_type": "code",
      "source": [
        "import itertools\n",
        "fig = plt.figure(figsize = (12, 12))\n",
        "i = 1\n",
        "\n",
        "# Define hyperparameter combinations to try\n",
        "learning_rates = [0.001, 0.01, 0.1]\n",
        "batch_sizes = [32, 64, 128]\n",
        "epochs = [20]\n",
        "\n",
        "tunning_hyper = False\n",
        "if tunning_hyper:\n",
        "    # Initialize a list to store the results\n",
        "    results = []\n",
        "\n",
        "    # Loop through all hyperparameter combinations\n",
        "    for lr, batch_size, epoch in itertools.product(learning_rates, batch_sizes, epochs):\n",
        "      \n",
        "      # Create a new model instance\n",
        "      model = create_model()\n",
        "      \n",
        "      # Train the model using the current hyperparameters\n",
        "      H = train_model(model, epochs=epoch, batch_size=batch_size, learning_rate=lr)\n",
        "\n",
        "      # Save the hyperparameters and results\n",
        "      (results.append({'learning_rate': lr, \n",
        "                      'batch_size': batch_size, \n",
        "                      'epochs': epoch, \n",
        "                      'val_loss': H.history['val_loss'][-1], \n",
        "                      'val_acc': H.history['val_accuracy'][-1],\n",
        "                      'history':H}))\n",
        "\n",
        "    # Print the results\n",
        "    for result in results:\n",
        "      print(result)\n"
      ],
      "metadata": {
        "colab": {
          "base_uri": "https://localhost:8080/",
          "height": 34
        },
        "id": "U5TUukYVI1Nf",
        "outputId": "2f510d36-dc91-46b4-ec0e-743d40549eaf"
      },
      "execution_count": null,
      "outputs": [
        {
          "output_type": "display_data",
          "data": {
            "text/plain": [
              "<Figure size 864x864 with 0 Axes>"
            ]
          },
          "metadata": {}
        }
      ]
    },
    {
      "cell_type": "code",
      "source": [
        "# best hyper-params\n",
        "\n",
        "learning_rate = 0.01\n",
        "batch_size    =  32\n",
        "epoch = 20"
      ],
      "metadata": {
        "id": "DZjOku1NIdW9"
      },
      "execution_count": null,
      "outputs": []
    },
    {
      "cell_type": "code",
      "execution_count": null,
      "metadata": {
        "colab": {
          "base_uri": "https://localhost:8080/",
          "height": 1000
        },
        "id": "n0br_Gt6_Hiq",
        "outputId": "860f4f1f-c52b-4da0-e860-775cb854f58d"
      },
      "outputs": [
        {
          "output_type": "stream",
          "name": "stdout",
          "text": [
            "Start training\n",
            "Epoch 1/20\n"
          ]
        },
        {
          "output_type": "stream",
          "name": "stderr",
          "text": [
            "<ipython-input-37-1165d20c8091>:5: UserWarning: `Model.fit_generator` is deprecated and will be removed in a future version. Please use `Model.fit`, which supports generators.\n",
            "  H = (model.fit_generator(aug.flow(trainX, trainy, batch_size=batch_size),\n"
          ]
        },
        {
          "output_type": "stream",
          "name": "stdout",
          "text": [
            "1087/1087 [==============================] - 37s 33ms/step - loss: 2.1993 - accuracy: 0.3771 - val_loss: 1.8356 - val_accuracy: 0.4746\n",
            "Epoch 2/20\n",
            "1087/1087 [==============================] - 29s 26ms/step - loss: 0.8627 - accuracy: 0.7156 - val_loss: 0.9761 - val_accuracy: 0.6930\n",
            "Epoch 3/20\n",
            "1087/1087 [==============================] - 31s 28ms/step - loss: 0.4047 - accuracy: 0.8657 - val_loss: 1.3303 - val_accuracy: 0.6567\n",
            "Epoch 4/20\n",
            "1087/1087 [==============================] - 32s 29ms/step - loss: 0.2456 - accuracy: 0.9173 - val_loss: 0.5523 - val_accuracy: 0.8311\n",
            "Epoch 5/20\n",
            "1087/1087 [==============================] - 31s 28ms/step - loss: 0.1672 - accuracy: 0.9441 - val_loss: 0.5191 - val_accuracy: 0.8601\n",
            "Epoch 6/20\n",
            "1087/1087 [==============================] - 28s 26ms/step - loss: 0.1307 - accuracy: 0.9566 - val_loss: 0.4850 - val_accuracy: 0.8683\n",
            "Epoch 7/20\n",
            "1087/1087 [==============================] - 29s 27ms/step - loss: 0.1031 - accuracy: 0.9660 - val_loss: 0.3981 - val_accuracy: 0.8889\n",
            "Epoch 8/20\n",
            "1087/1087 [==============================] - 31s 28ms/step - loss: 0.0897 - accuracy: 0.9710 - val_loss: 0.4469 - val_accuracy: 0.8866\n",
            "Epoch 9/20\n",
            "1087/1087 [==============================] - 28s 26ms/step - loss: 0.0722 - accuracy: 0.9761 - val_loss: 0.4708 - val_accuracy: 0.8955\n",
            "Epoch 10/20\n",
            "1087/1087 [==============================] - 28s 26ms/step - loss: 0.0651 - accuracy: 0.9782 - val_loss: 0.3897 - val_accuracy: 0.9018\n",
            "Epoch 11/20\n",
            "1087/1087 [==============================] - 28s 26ms/step - loss: 0.0648 - accuracy: 0.9789 - val_loss: 0.4606 - val_accuracy: 0.8907\n",
            "Epoch 12/20\n",
            "1087/1087 [==============================] - 28s 25ms/step - loss: 0.0518 - accuracy: 0.9838 - val_loss: 0.4095 - val_accuracy: 0.9054\n",
            "Epoch 13/20\n",
            "1087/1087 [==============================] - 29s 27ms/step - loss: 0.0488 - accuracy: 0.9849 - val_loss: 0.4654 - val_accuracy: 0.8927\n",
            "Epoch 14/20\n",
            "1087/1087 [==============================] - 29s 27ms/step - loss: 0.0431 - accuracy: 0.9863 - val_loss: 0.5027 - val_accuracy: 0.8995\n",
            "Epoch 15/20\n",
            "1087/1087 [==============================] - 29s 27ms/step - loss: 0.0419 - accuracy: 0.9862 - val_loss: 0.4074 - val_accuracy: 0.9109\n",
            "Epoch 16/20\n",
            "1087/1087 [==============================] - 29s 27ms/step - loss: 0.0372 - accuracy: 0.9878 - val_loss: 0.4720 - val_accuracy: 0.8995\n",
            "Epoch 17/20\n",
            "1087/1087 [==============================] - 29s 27ms/step - loss: 0.0334 - accuracy: 0.9890 - val_loss: 0.4343 - val_accuracy: 0.9129\n",
            "Epoch 18/20\n",
            "1087/1087 [==============================] - 31s 28ms/step - loss: 0.0323 - accuracy: 0.9893 - val_loss: 0.4038 - val_accuracy: 0.9007\n",
            "Epoch 19/20\n",
            "1087/1087 [==============================] - 29s 27ms/step - loss: 0.0327 - accuracy: 0.9896 - val_loss: 0.4685 - val_accuracy: 0.8909\n",
            "Epoch 20/20\n",
            "1087/1087 [==============================] - 29s 27ms/step - loss: 0.0379 - accuracy: 0.9876 - val_loss: 0.4354 - val_accuracy: 0.9111\n"
          ]
        },
        {
          "output_type": "stream",
          "name": "stderr",
          "text": [
            "WARNING:matplotlib.legend:No artists with labels found to put in legend.  Note that artists whose label start with an underscore are ignored when legend() is called with no argument.\n"
          ]
        },
        {
          "output_type": "display_data",
          "data": {
            "text/plain": [
              "<Figure size 432x288 with 1 Axes>"
            ],
            "image/png": "[encoded data removed]"
          },
          "metadata": {
            "needs_background": "light"
          }
        },
        {
          "output_type": "display_data",
          "data": {
            "text/plain": [
              "<Figure size 432x288 with 1 Axes>"
            ],
            "image/png": "[encoded data removed]"
          },
          "metadata": {
            "needs_background": "light"
          }
        }
      ],
      "source": [
        "# Create a new model instance\n",
        "model = create_model()\n",
        "  \n",
        "# Train the model using the current hyperparameters\n",
        "H = train_model(model, epochs=epoch, batch_size=batch_size, learning_rate=learning_rate)\n",
        "\n",
        "# visualize training loss and validation\n",
        "evaluation_model(H)"
      ]
    },
    {
      "cell_type": "markdown",
      "metadata": {
        "id": "1DFVFPiADKy9"
      },
      "source": [
        "#**Predict , verifiy the model by  test_set**"
      ]
    },
    {
      "cell_type": "code",
      "source": [
        "testingy = lb.fit_transform(testingy)"
      ],
      "metadata": {
        "id": "fN5Mj4KqZDt3"
      },
      "execution_count": null,
      "outputs": []
    },
    {
      "cell_type": "code",
      "source": [
        "# Evaluate the model on test data\n",
        "test_loss, test_accuracy = model.evaluate(testingX, testingy, verbose=0)"
      ],
      "metadata": {
        "id": "BC4M2fJPLsWz"
      },
      "execution_count": null,
      "outputs": []
    },
    {
      "cell_type": "code",
      "source": [
        "test_accuracy"
      ],
      "metadata": {
        "colab": {
          "base_uri": "https://localhost:8080/"
        },
        "id": "tTExU8MyZYHj",
        "outputId": "0f7b95c7-ae22-4b8d-993d-cec2e69798d8"
      },
      "execution_count": null,
      "outputs": [
        {
          "output_type": "execute_result",
          "data": {
            "text/plain": [
              "0.929928719997406"
            ]
          },
          "metadata": {},
          "execution_count": 51
        }
      ]
    },
    {
      "cell_type": "code",
      "execution_count": null,
      "metadata": {
        "id": "qUweBSmZCzAI",
        "colab": {
          "base_uri": "https://localhost:8080/",
          "height": 316
        },
        "outputId": "91e02958-8e5f-4c83-d6ff-fc95660c60fc"
      },
      "outputs": [
        {
          "output_type": "stream",
          "name": "stdout",
          "text": [
            "1/1 [==============================] - 0s 23ms/step\n",
            "True class name:  Speed limit (80km/h)\n"
          ]
        },
        {
          "output_type": "display_data",
          "data": {
            "text/plain": [
              "<Figure size 432x288 with 1 Axes>"
            ],
            "image/png": "[encoded data removed]"
          },
          "metadata": {
            "needs_background": "light"
          }
        }
      ],
      "source": [
        "import numpy as np\n",
        "\n",
        "id_img = 1200\n",
        "result = model.predict(testingX[id_img:id_img+1])   # a list of predicted prob correspoding to each class\n",
        "final=np.argmax(result) # finding index whose value is biggest\n",
        "final = classNames[final]\n",
        "\n",
        "plt.imshow(test_set[\"features\"][id_img])\n",
        "print(\"True class name: \", classNames[test_set[\"labels\"][id_img]])\n",
        "plt.title(final)\n",
        "plt.show()"
      ]
    }
  ],
  "metadata": {
    "accelerator": "GPU",
    "colab": {
      "provenance": [],
      "toc_visible": true,
      "include_colab_link": true
    },
    "kernelspec": {
      "display_name": "Python 3",
      "name": "python3"
    },
    "language_info": {
      "codemirror_mode": {
        "name": "ipython",
        "version": 3
      },
      "file_extension": ".py",
      "mimetype": "text/x-python",
      "name": "python",
      "nbconvert_exporter": "python",
      "pygments_lexer": "ipython3",
      "version": "3.10.6"
    },
    "gpuClass": "standard"
  },
  "nbformat": 4,
  "nbformat_minor": 0
}